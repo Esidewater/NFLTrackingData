{
  "cells": [
    {
      "cell_type": "markdown",
      "metadata": {},
      "source": [
        "# NFL Route Classifier – Week 9 Ensemble Report\n",
        "\n",
        "This notebook trains (optionally) and visualizes the latest ensemble model results (BiGRU + Transformer) on the strict Week 9 holdout.\n",
        "\n",
        "- Training data: Weeks 1–8\n",
        "- Test data: Week 9\n",
        "- Features: tracking-derived sequence features + QB/LOS alignment + cut descriptors\n",
        "- Models: BiGRU+Attention and small Transformer; logits averaged\n",
        "- Optional pairwise fixers (IN↔OUT, POST↔CORNER) using QB/center cut features\n",
        "\n"
      ]
    },
    {
      "cell_type": "code",
      "execution_count": null,
      "metadata": {},
      "outputs": [],
      "source": [
        "# Setup\n",
        "import os, sys, json\n",
        "import pandas as pd\n",
        "import numpy as np\n",
        "from pathlib import Path\n",
        "\n",
        "# Paths\n",
        "ROOT = Path('.')\n",
        "\n"
      ]
    },
    {
      "cell_type": "code",
      "execution_count": null,
      "metadata": {},
      "outputs": [],
      "source": [
        "# Run ensemble training/evaluation (will print metrics)\n",
        "!python3 train_ensemble_route_week9.py\n"
      ]
    },
    {
      "cell_type": "code",
      "execution_count": null,
      "metadata": {},
      "outputs": [],
      "source": [
        "# Load confusion matrix and metrics for visualization\n",
        "import matplotlib\n",
        "matplotlib.use('Agg')\n",
        "import matplotlib.pyplot as plt\n",
        "import seaborn as sns\n",
        "\n",
        "counts_csv = 'confusion_matrix_week9_counts_ensemble_fixers.csv'\n",
        "df_counts = pd.read_csv(counts_csv, index_col=0)\n",
        "\n",
        "# Heatmap - counts\n",
        "plt.figure(figsize=(10,8))\n",
        "sns.heatmap(df_counts, annot=False, cmap='Blues')\n",
        "plt.title('Week 9 Confusion Matrix (Ensemble+Fixers, Counts)')\n",
        "plt.xlabel('Predicted'); plt.ylabel('True')\n",
        "plt.tight_layout()\n",
        "plt.show()\n"
      ]
    },
    {
      "cell_type": "code",
      "execution_count": null,
      "metadata": {},
      "outputs": [],
      "source": [
        "# Row-normalized heatmap (build from counts)\n",
        "cm = df_counts.values\n",
        "row_sums = cm.sum(axis=1, keepdims=True)\n",
        "row_sums[row_sums == 0] = 1\n",
        "cm_norm = (cm / row_sums).astype(float)\n",
        "df_norm = pd.DataFrame(cm_norm, index=df_counts.index, columns=df_counts.columns)\n",
        "\n",
        "plt.figure(figsize=(10,8))\n",
        "sns.heatmap(df_norm, annot=False, cmap='Greens', vmin=0, vmax=1)\n",
        "plt.title('Week 9 Confusion Matrix (Ensemble+Fixers, Row-normalized)')\n",
        "plt.xlabel('Predicted'); plt.ylabel('True')\n",
        "plt.tight_layout()\n",
        "plt.show()\n"
      ]
    },
    {
      "cell_type": "code",
      "execution_count": null,
      "metadata": {},
      "outputs": [],
      "source": [
        "# Per-class F1 from confusion matrix approximation (requires true metrics; for quick view use recall)\n",
        "recall = np.diag(cm) / row_sums.ravel()\n",
        "plt.figure(figsize=(8,6))\n",
        "order = np.argsort(recall)\n",
        "plt.barh(df_counts.index[order], recall[order])\n",
        "for i, v in enumerate(recall[order]):\n",
        "    plt.text(v + 0.005, i, f\"{v:.2f}\", va='center', fontsize=8)\n",
        "plt.xlim(0,1)\n",
        "plt.title('Per-class Recall (Week 9) – Ensemble+Fixers')\n",
        "plt.xlabel('Recall')\n",
        "plt.tight_layout()\n",
        "plt.show()\n"
      ]
    },
    {
      "cell_type": "markdown",
      "metadata": {},
      "source": [
        "## Notes\n",
        "- You can re-run the training cell to regenerate metrics and confusion matrix CSVs.\n",
        "- For a richer report, also run `plot_week9_report.py` for the BiGRU-only results or adapt it for the ensemble.\n",
        "- To export predictions per sample, extend `train_ensemble_route_week9.py` to dump predicted labels and probabilities for Week 9.\n"
      ]
    }
  ],
  "metadata": {
    "language_info": {
      "name": "python"
    }
  },
  "nbformat": 4,
  "nbformat_minor": 2
}
